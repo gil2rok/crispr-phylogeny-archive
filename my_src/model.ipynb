{
 "cells": [
  {
   "cell_type": "code",
   "execution_count": 4,
   "metadata": {},
   "outputs": [],
   "source": [
    "import torch\n",
    "import geoopt"
   ]
  },
  {
   "cell_type": "code",
   "execution_count": 9,
   "metadata": {},
   "outputs": [],
   "source": [
    "class Crispr_Phylogeny(torch.nn.Module):\n",
    "    def __init__(self, riemanien_manifold, N):\n",
    "        super().__init__()\n",
    "        self.man = riemanien_manifold\n",
    "\n",
    "        self.taxon = geoopt.ManifoldParameter(\n",
    "            torch.empty(N), manifold=self.man\n",
    "        )\n",
    "\n",
    "    def forward():\n",
    "        pass"
   ]
  },
  {
   "cell_type": "code",
   "execution_count": 32,
   "metadata": {},
   "outputs": [],
   "source": [
    "N = 10 # num taxon\n",
    "manifold = geoopt.Lorentz()\n",
    "cp = Crispr_Phylogeny(manifold, N)"
   ]
  },
  {
   "cell_type": "markdown",
   "metadata": {},
   "source": [
    "$$\\log l(x_i) = \\sum_j \\sum_{\\textrm{sites } \\sigma} \\log \\sum_{a \\in A} \\pi_a P_{a \\sigma_i}(d_{x_j}/2) P_{a \\sigma_j}(d_{x_j}/2)$$"
   ]
  },
  {
   "cell_type": "code",
   "execution_count": 34,
   "metadata": {},
   "outputs": [
    {
     "name": "stdout",
     "output_type": "stream",
     "text": [
      "tensor(nan)\n"
     ]
    }
   ],
   "source": [
    "x = torch.tensor([2, 3, 4, 5])\n",
    "def loss(leaf_index, x, manifold):\n",
    "    xi = x[leaf_index].repeat(x.shape)\n",
    "\n",
    "    dist = manifold.dist(xi, x)\n",
    "    print(dist)\n",
    "\n",
    "loss(3, x, manifold)"
   ]
  },
  {
   "cell_type": "code",
   "execution_count": null,
   "metadata": {},
   "outputs": [],
   "source": []
  },
  {
   "cell_type": "code",
   "execution_count": null,
   "metadata": {},
   "outputs": [],
   "source": []
  }
 ],
 "metadata": {
  "kernelspec": {
   "display_name": "Python 3.10.6 ('crispr-phylogeny')",
   "language": "python",
   "name": "python3"
  },
  "language_info": {
   "codemirror_mode": {
    "name": "ipython",
    "version": 3
   },
   "file_extension": ".py",
   "mimetype": "text/x-python",
   "name": "python",
   "nbconvert_exporter": "python",
   "pygments_lexer": "ipython3",
   "version": "3.10.6"
  },
  "orig_nbformat": 4,
  "vscode": {
   "interpreter": {
    "hash": "f7bb97b50ad46cb713a8359699e9cabff3f6522da04ef86cb03febb07a8b507c"
   }
  }
 },
 "nbformat": 4,
 "nbformat_minor": 2
}
